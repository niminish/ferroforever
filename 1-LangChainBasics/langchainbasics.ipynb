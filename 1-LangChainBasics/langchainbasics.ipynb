{
 "cells": [
  {
   "cell_type": "code",
   "execution_count": 1,
   "id": "9c285a5d",
   "metadata": {},
   "outputs": [
    {
     "data": {
      "text/plain": [
       "True"
      ]
     },
     "execution_count": 1,
     "metadata": {},
     "output_type": "execute_result"
    }
   ],
   "source": [
    "import langchain\n",
    "import os\n",
    "from dotenv import load_dotenv\n",
    "load_dotenv()"
   ]
  },
  {
   "cell_type": "code",
   "execution_count": 2,
   "id": "8e710172",
   "metadata": {},
   "outputs": [],
   "source": [
    "os.environ['GROQ_API_KEY'] = os.getenv(\"GROQ_API_KEY\")\n",
    "os.environ['GOOGLE_API_KEY'] = os.getenv(\"GOOGLE_API_KEY\")"
   ]
  },
  {
   "cell_type": "code",
   "execution_count": 3,
   "id": "ad517098",
   "metadata": {},
   "outputs": [],
   "source": [
    "from langchain.chat_models import init_chat_model\n",
    "from langchain_core.messages import SystemMessage,HumanMessage"
   ]
  },
  {
   "cell_type": "code",
   "execution_count": 27,
   "id": "6ad2c739",
   "metadata": {},
   "outputs": [],
   "source": [
    "model = init_chat_model(\"groq:llama-3.1-8b-instant\")"
   ]
  },
  {
   "cell_type": "code",
   "execution_count": 5,
   "id": "e07da64d",
   "metadata": {},
   "outputs": [
    {
     "data": {
      "text/plain": [
       "ChatGroq(client=<groq.resources.chat.completions.Completions object at 0x00000230B9FC1C50>, async_client=<groq.resources.chat.completions.AsyncCompletions object at 0x00000230B9FC28D0>, model_name='distil-whisper-large-v3-en', model_kwargs={}, groq_api_key=SecretStr('**********'))"
      ]
     },
     "execution_count": 5,
     "metadata": {},
     "output_type": "execute_result"
    }
   ],
   "source": [
    "from langchain_groq import ChatGroq\n",
    "ChatGroq(model='distil-whisper-large-v3-en')"
   ]
  },
  {
   "cell_type": "code",
   "execution_count": 23,
   "id": "16960ad8",
   "metadata": {},
   "outputs": [],
   "source": [
    "messages = [SystemMessage('You are a tennis expert and have been studying recent trends/forms of all the players'),\n",
    "            HumanMessage('Who will win between Iga Swiatek and Coco Gauff on a Clay court battle?')]"
   ]
  },
  {
   "cell_type": "code",
   "execution_count": 28,
   "id": "2af9f679",
   "metadata": {},
   "outputs": [],
   "source": [
    "response = model.invoke(messages)"
   ]
  },
  {
   "cell_type": "code",
   "execution_count": null,
   "id": "f2fa2c8b",
   "metadata": {},
   "outputs": [
    {
     "data": {
      "text/plain": [
       "AIMessage(content=\"What a thrilling matchup! Both Iga Swiatek and Coco Gauff are phenomenal players, but I'd argue that Swiatek has a slight edge on clay courts. Here's why:\\n\\n**Iga Swiatek's strengths on clay:**\\n\\n1. **Dominant clay-court record:** Swiatek has an incredible record on clay, with 3 consecutive French Open titles (2020-2022) and a total of 28 wins in her last 30 clay-court matches. She's extremely comfortable on this surface.\\n2. **Exceptional defensive skills:** Swiatek is one of the best defensive players on tour, and clay courts reward her ability to slide, move quickly, and generate sharp angles.\\n3. **Heavy topspin forehand:** Her forehand is a potent weapon on clay, as the surface allows her to generate heavy topspin that bounces high and troubles opponents.\\n\\n**Coco Gauff's strengths:**\\n\\n1. **Powerful serve and forehand:** Gauff's serve and forehand are among the most potent on tour, and she can use them to dominate opponents on any surface.\\n2. **Aggressive playing style:** Gauff is an aggressive player who likes to take control of points quickly, which can be effective on clay if she can manage her errors.\\n\\n**Head-to-head and recent form:**\\n\\nSwiatek and Gauff have played each other 5 times, with Swiatek leading 4-1. Their most recent matchup was at the 2022 French Open, where Swiatek won in straight sets.\\n\\nIn recent form, Swiatek has been almost unbeatable on clay, with a 12-match win streak on this surface. Gauff, on the other hand, has had some ups and downs, but she's still a top contender on hard courts and has shown promise on clay.\\n\\n**Prediction:**\\n\\nGiven Swiatek's phenomenal clay-court record, defensive expertise, and powerful forehand, I predict she'll edge Coco Gauff in a closely contested match. Swiatek's experience and comfort on clay will likely give her an edge in terms of strategy and shot selection.\\n\\n**Score prediction:** Swiatek wins 6-4, 7-5\\n\\nKeep in mind that Gauff is an incredibly talented player, and if she can find her A-game, she can definitely push Swiatek to her limits. However, based on recent trends and clay-court expertise, I'm backing Swiatek to come out on top.\", additional_kwargs={}, response_metadata={'token_usage': {'completion_tokens': 505, 'prompt_tokens': 50, 'total_tokens': 555, 'completion_time': 1.210504876, 'prompt_time': 0.003529789, 'queue_time': 0.046842436, 'total_time': 1.214034665}, 'model_name': 'meta-llama/llama-4-scout-17b-16e-instruct', 'system_fingerprint': 'fp_79da0e0073', 'service_tier': 'on_demand', 'finish_reason': 'stop', 'logprobs': None}, id='run--0016ae40-b750-4b4c-b6a2-5ef608db0a2b-0', usage_metadata={'input_tokens': 50, 'output_tokens': 505, 'total_tokens': 555})"
      ]
     },
     "execution_count": 12,
     "metadata": {},
     "output_type": "execute_result"
    }
   ],
   "source": [
    "response"
   ]
  },
  {
   "cell_type": "code",
   "execution_count": null,
   "id": "ec7e5578",
   "metadata": {},
   "outputs": [
    {
     "name": "stdout",
     "output_type": "stream",
     "text": [
      "What a thrilling matchup! Both Iga Swiatek and Coco Gauff are phenomenal players, but I'd argue that Swiatek has a slight edge on clay courts. Here's why:\n",
      "\n",
      "**Iga Swiatek's strengths on clay:**\n",
      "\n",
      "1. **Dominant clay-court record:** Swiatek has an incredible record on clay, with 3 consecutive French Open titles (2020-2022) and a total of 28 wins in her last 30 clay-court matches. She's extremely comfortable on this surface.\n",
      "2. **Exceptional defensive skills:** Swiatek is one of the best defensive players on tour, and clay courts reward her ability to slide, move quickly, and generate sharp angles.\n",
      "3. **Heavy topspin forehand:** Her forehand is a potent weapon on clay, as the surface allows her to generate heavy topspin that bounces high and troubles opponents.\n",
      "\n",
      "**Coco Gauff's strengths:**\n",
      "\n",
      "1. **Powerful serve and forehand:** Gauff's serve and forehand are among the most potent on tour, and she can use them to dominate opponents on any surface.\n",
      "2. **Aggressive playing style:** Gauff is an aggressive player who likes to take control of points quickly, which can be effective on clay if she can manage her errors.\n",
      "\n",
      "**Head-to-head and recent form:**\n",
      "\n",
      "Swiatek and Gauff have played each other 5 times, with Swiatek leading 4-1. Their most recent matchup was at the 2022 French Open, where Swiatek won in straight sets.\n",
      "\n",
      "In recent form, Swiatek has been almost unbeatable on clay, with a 12-match win streak on this surface. Gauff, on the other hand, has had some ups and downs, but she's still a top contender on hard courts and has shown promise on clay.\n",
      "\n",
      "**Prediction:**\n",
      "\n",
      "Given Swiatek's phenomenal clay-court record, defensive expertise, and powerful forehand, I predict she'll edge Coco Gauff in a closely contested match. Swiatek's experience and comfort on clay will likely give her an edge in terms of strategy and shot selection.\n",
      "\n",
      "**Score prediction:** Swiatek wins 6-4, 7-5\n",
      "\n",
      "Keep in mind that Gauff is an incredibly talented player, and if she can find her A-game, she can definitely push Swiatek to her limits. However, based on recent trends and clay-court expertise, I'm backing Swiatek to come out on top.\n"
     ]
    }
   ],
   "source": [
    "print(response.content)"
   ]
  },
  {
   "cell_type": "markdown",
   "id": "72778a9a",
   "metadata": {},
   "source": [
    "### Dynamic Prompt\n"
   ]
  },
  {
   "cell_type": "code",
   "execution_count": 12,
   "id": "cd56de9d",
   "metadata": {},
   "outputs": [],
   "source": [
    "from langchain_core.prompts import ChatPromptTemplate\n",
    "Predictor_template = ChatPromptTemplate.from_messages([('system','You are a professional {sport} expert and have been studying recent trends/forms of all the players'),\n",
    "                                                       ('human','who will win out of {team1} and {team2}')])\n"
   ]
  },
  {
   "cell_type": "code",
   "execution_count": 29,
   "id": "535a6ee8",
   "metadata": {},
   "outputs": [],
   "source": [
    "prompt = Predictor_template.invoke({'sport':'cricket','team1':'pbks','team2':'kkr'})"
   ]
  },
  {
   "cell_type": "code",
   "execution_count": 30,
   "id": "448801bf",
   "metadata": {},
   "outputs": [
    {
     "data": {
      "text/plain": [
       "ChatPromptValue(messages=[SystemMessage(content='You are a professional cricket expert and have been studying recent trends/forms of all the players', additional_kwargs={}, response_metadata={}), HumanMessage(content='who will win out of pbks and kkr', additional_kwargs={}, response_metadata={})])"
      ]
     },
     "execution_count": 30,
     "metadata": {},
     "output_type": "execute_result"
    }
   ],
   "source": [
    "prompt"
   ]
  },
  {
   "cell_type": "code",
   "execution_count": 31,
   "id": "0c8809a0",
   "metadata": {},
   "outputs": [
    {
     "name": "stdout",
     "output_type": "stream",
     "text": [
      "Based on recent trends and forms of both teams, I'd say it's a close contest between Punjab Kings (PBKS) and Kolkata Knight Riders (KKR). Here's a brief analysis:\n",
      "\n",
      "**Punjab Kings (PBKS)**\n",
      "\n",
      "* They've been playing some decent cricket lately, with a few wins and losses in the recent matches.\n",
      "* Bhanuka Rajapaksa has been in form, scoring crucial runs down the order.\n",
      "* Arshdeep Singh has been bowling well, taking wickets at crucial junctures.\n",
      "* Shikhar Dhawan has been inconsistent, but he's a match-winner on his day.\n",
      "* They have a relatively balanced squad, with depth in both batting and bowling.\n",
      "\n",
      "**Kolkata Knight Riders (KKR)**\n",
      "\n",
      "* KKR has been on a roll, with three consecutive wins in the recent matches.\n",
      "* Nitish Rana has been in scintillating form, scoring big runs and taking wickets.\n",
      "* Shardul Thakur has been a revelation, taking crucial wickets and providing stability in the bowling.\n",
      "* Rinku Singh has been a valuable addition to the team, providing depth in the batting department.\n",
      "* They have a well-balanced squad, with a mix of experience and youth.\n",
      "\n",
      "Considering these factors, I'd predict that **Kolkata Knight Riders (KKR)** might have a slight edge over Punjab Kings (PBKS). However, it's a close contest, and either team can win on their day.\n",
      "\n",
      "**Prediction:** KKR might win by 10-20 runs or take the match in a close finish.\n"
     ]
    }
   ],
   "source": [
    "print(model.invoke(prompt).content)"
   ]
  },
  {
   "cell_type": "code",
   "execution_count": 32,
   "id": "6516a888",
   "metadata": {},
   "outputs": [
    {
     "name": "stdout",
     "output_type": "stream",
     "text": [
      "Kimmer Coppejans and Alejandro Davidovich Fokina's opponent isn't A Barrena, I believe you're referring to Alejandro Barrena is not a known tennis player but a possible mistake with Alejandro Tabilo is not correct either, however, Alejandro Davidovich Fokina's opponent  may not be correct. \n",
      "\n",
      "Considering the information you provided I found that  Kimmer Coppejans is a professional tennis player and Alejandro Barren a lesser known or not known, tennis player, however, I can suggest a general comparison based on their past performances.\n",
      "\n",
      "Kimmer Coppejans has shown some promising form in recent times, particularly on clay courts. He has the ability to mix up his game, using a combination of powerful forehands and clever defensive play to outmaneuver his opponents.\n",
      "\n",
      "On the other hand, Alejandro Barren may not have a strong clay court record. However, without specific information about his game or past performances, it's difficult to make a definitive prediction.\n",
      "\n",
      "In a general sense, I would expect Kimmer Coppejans to have the upper hand in a match against Alejandro Barren, given his experience on clay courts and his ability to adapt to different playing styles.\n"
     ]
    }
   ],
   "source": [
    "prompt = Predictor_template.invoke({'sport':'tennis clay','team1':'k coppejans','team2':'A barrena'})\n",
    "print(model.invoke(prompt).content)"
   ]
  },
  {
   "cell_type": "markdown",
   "id": "195040b0",
   "metadata": {},
   "source": [
    "Building Chain\n"
   ]
  },
  {
   "cell_type": "code",
   "execution_count": 33,
   "id": "446226d7",
   "metadata": {},
   "outputs": [],
   "source": [
    "from langchain_core.output_parsers import StrOutputParser\n",
    "from langchain_core.runnables import RunnablePassthrough, RunnableLambda\n",
    "\n",
    "def study_planner():\n",
    "    question_prompt = ChatPromptTemplate.from_messages([('system' , 'you are a world reknowned professor specializing in {subject} and you are famous for your easiness in explaining complex topics'),\n",
    "                                                        ('user', 'I wanna know about the {subject}')])\n",
    "    \n",
    "    ##template for summarizer\n",
    "\n",
    "    summarizer_prompt = ChatPromptTemplate.from_messages([('system' , 'you are the worlds most optimal planner and are known for your management skills'),\n",
    "                                                          ('user', '{answer}')])\n",
    "    \n",
    "    ##pass the answer to summarizer\n",
    "    def summarize_story(answer_text):\n",
    "        return {'answer': answer_text}\n",
    "    \n",
    "    chain = (\n",
    "        question_prompt | model | StrOutputParser()\n",
    "    )\n",
    "\n",
    "    summary_chain = (chain | RunnableLambda(summarize_story) | summarizer_prompt | model | StrOutputParser())\n",
    "\n",
    "    return summary_chain"
   ]
  },
  {
   "cell_type": "code",
   "execution_count": 34,
   "id": "182ac494",
   "metadata": {},
   "outputs": [],
   "source": [
    "final = study_planner()"
   ]
  },
  {
   "cell_type": "code",
   "execution_count": 35,
   "id": "9fdc060d",
   "metadata": {},
   "outputs": [
    {
     "data": {
      "text/plain": [
       "ChatPromptTemplate(input_variables=['subject'], input_types={}, partial_variables={}, messages=[SystemMessagePromptTemplate(prompt=PromptTemplate(input_variables=['subject'], input_types={}, partial_variables={}, template='you are a world reknowned professor specializing in {subject} and you are famous for your easiness in explaining complex topics'), additional_kwargs={}), HumanMessagePromptTemplate(prompt=PromptTemplate(input_variables=['subject'], input_types={}, partial_variables={}, template='I wanna know about the {subject}'), additional_kwargs={})])\n",
       "| ChatGroq(client=<groq.resources.chat.completions.Completions object at 0x00000230BC114210>, async_client=<groq.resources.chat.completions.AsyncCompletions object at 0x00000230BC129790>, model_name='llama-3.1-8b-instant', model_kwargs={}, groq_api_key=SecretStr('**********'))\n",
       "| StrOutputParser()\n",
       "| RunnableLambda(summarize_story)\n",
       "| ChatPromptTemplate(input_variables=['answer'], input_types={}, partial_variables={}, messages=[SystemMessagePromptTemplate(prompt=PromptTemplate(input_variables=[], input_types={}, partial_variables={}, template='you are the worlds most optimal planner and are known for your management skills'), additional_kwargs={}), HumanMessagePromptTemplate(prompt=PromptTemplate(input_variables=['answer'], input_types={}, partial_variables={}, template='{answer}'), additional_kwargs={})])\n",
       "| ChatGroq(client=<groq.resources.chat.completions.Completions object at 0x00000230BC114210>, async_client=<groq.resources.chat.completions.AsyncCompletions object at 0x00000230BC129790>, model_name='llama-3.1-8b-instant', model_kwargs={}, groq_api_key=SecretStr('**********'))\n",
       "| StrOutputParser()"
      ]
     },
     "execution_count": 35,
     "metadata": {},
     "output_type": "execute_result"
    }
   ],
   "source": [
    "final"
   ]
  },
  {
   "cell_type": "code",
   "execution_count": 36,
   "id": "37e907f6",
   "metadata": {},
   "outputs": [
    {
     "name": "stdout",
     "output_type": "stream",
     "text": [
      "Thank you for breaking down the concept of Langchain and its various components. As the world's most optimal planner, I'm interested in understanding the strategic implications of Langchain and how it can be leveraged to drive business growth, improve customer experiences, and enhance operational efficiency.\n",
      "\n",
      "Here are a few questions to get us started:\n",
      "\n",
      "1. **Scalability**: How does Langchain handle the increasing volume of data and conversations? Are there any strategies for scaling Langchain systems to meet the demands of large-scale applications?\n",
      "2. **Explainability and Transparency**: As Langchain systems become more complex and integrated, how can we ensure that their decision-making processes are transparent and explainable to users and stakeholders?\n",
      "3. **Integration with existing systems**: How does Langchain integrate with existing enterprise systems, such as CRM, ERP, or customer support software? Are there any best practices for integrating Langchain with existing infrastructure?\n",
      "4. **Data quality and annotation**: What are the key considerations for ensuring high-quality data and annotations for Langchain systems? Are there any tools or methodologies for data preprocessing and annotation?\n",
      "5. **Regulatory compliance**: How does Langchain address regulatory compliance and data protection requirements, such as GDPR, HIPAA, or CCPA?\n",
      "6. **Human-AI collaboration**: How can Langchain systems be designed to collaborate with humans effectively, rather than simply replacing human workers? Are there any strategies for ensuring that Langchain systems augment human capabilities rather than diminishing them?\n",
      "7. **Evaluation metrics**: What are the key evaluation metrics for Langchain systems, and how can we measure their effectiveness in various applications?\n",
      "\n",
      "These are just a few questions to get us started. I'm excited to dive deeper into the world of Langchain and explore its potential applications and implications.\n"
     ]
    }
   ],
   "source": [
    "print(final.invoke({'subject':'langchain'}))"
   ]
  },
  {
   "cell_type": "code",
   "execution_count": null,
   "id": "9f3a6ca1",
   "metadata": {},
   "outputs": [],
   "source": []
  }
 ],
 "metadata": {
  "kernelspec": {
   "display_name": "AgenticAI",
   "language": "python",
   "name": "python3"
  },
  "language_info": {
   "codemirror_mode": {
    "name": "ipython",
    "version": 3
   },
   "file_extension": ".py",
   "mimetype": "text/x-python",
   "name": "python",
   "nbconvert_exporter": "python",
   "pygments_lexer": "ipython3",
   "version": "3.11.9"
  }
 },
 "nbformat": 4,
 "nbformat_minor": 5
}
